{
 "cells": [
  {
   "cell_type": "markdown",
   "id": "42f2d97d",
   "metadata": {},
   "source": [
    "# **Movie Recommendation System**"
   ]
  },
  {
   "cell_type": "markdown",
   "id": "8b5c2185",
   "metadata": {},
   "source": [
    "-------------"
   ]
  },
  {
   "cell_type": "markdown",
   "id": "1f93eb65",
   "metadata": {},
   "source": [
    "## **Objective**\n",
    "\n",
    "To build a content-based movie recommendation system that suggests similar movies based on genres and descriptions."
   ]
  },
  {
   "cell_type": "markdown",
   "id": "8b84bb9a",
   "metadata": {},
   "source": [
    "## **Data Source**\n",
    "\n",
    "The dataset includes movie titles, genres, and descriptions."
   ]
  },
  {
   "cell_type": "markdown",
   "id": "eb1c81c9",
   "metadata": {},
   "source": [
    "## **Import Library**"
   ]
  },
  {
   "cell_type": "code",
   "execution_count": null,
   "id": "f6f1fd73",
   "metadata": {},
   "outputs": [],
   "source": [
    "import pandas as pd\n",
    "from sklearn.feature_extraction.text import CountVectorizer\n",
    "from sklearn.metrics.pairwise import cosine_similarity"
   ]
  },
  {
   "cell_type": "markdown",
   "id": "b5824174",
   "metadata": {},
   "source": [
    "## **Import Dataset**"
   ]
  },
  {
   "cell_type": "code",
   "execution_count": null,
   "id": "009b9717",
   "metadata": {},
   "outputs": [],
   "source": [
    "# Sample dataset for demonstration\n",
    "data = {\n",
    "    'movie_id': [1, 2, 3, 4, 5],\n",
    "    'title': ['The Matrix', 'Inception', 'Interstellar', 'The Dark Knight', 'Pulp Fiction'],\n",
    "    'genres': ['Action Sci-Fi', 'Action Adventure Sci-Fi', 'Adventure Drama Sci-Fi', 'Action Crime Drama', 'Crime Drama'],\n",
    "    'description': [\n",
    "        'A computer hacker learns about the true nature of his reality.',\n",
    "        'A thief who steals secrets through dream-sharing technology.',\n",
    "        'A group of explorers travel through a wormhole in space.',\n",
    "        'A vigilante battles crime in Gotham City.',\n",
    "        'The lives of two mob hitmen, a boxer, and others intertwine.'\n",
    "    ]\n",
    "}\n",
    "\n",
    "movies_df = pd.DataFrame(data)\n",
    "movies_df"
   ]
  },
  {
   "cell_type": "markdown",
   "id": "0686e43f",
   "metadata": {},
   "source": [
    "## **Data Preprocessing**"
   ]
  },
  {
   "cell_type": "code",
   "execution_count": null,
   "id": "509c2eb0",
   "metadata": {},
   "outputs": [],
   "source": [
    "# Combine features for similarity calculation\n",
    "movies_df['combined_features'] = movies_df['genres'] + \" \" + movies_df['description']\n",
    "\n",
    "# Convert text to feature vectors\n",
    "count_vectorizer = CountVectorizer(stop_words='english')\n",
    "count_matrix = count_vectorizer.fit_transform(movies_df['combined_features'])\n",
    "\n",
    "# Preview the feature vectors\n",
    "count_matrix.shape"
   ]
  },
  {
   "cell_type": "markdown",
   "id": "2155f2c5",
   "metadata": {},
   "source": [
    "## **Model Building**"
   ]
  },
  {
   "cell_type": "code",
   "execution_count": null,
   "id": "48c73946",
   "metadata": {},
   "outputs": [],
   "source": [
    "# Calculate cosine similarity\n",
    "cosine_sim = cosine_similarity(count_matrix)\n",
    "\n",
    "def get_recommendations(title, cosine_sim=cosine_sim):\n",
    "    # Get the index of the movie that matches the title\n",
    "    idx = movies_df[movies_df['title'] == title].index[0]\n",
    "\n",
    "    # Get the pairwise similarity scores for all movies with that movie\n",
    "    sim_scores = list(enumerate(cosine_sim[idx]))\n",
    "\n",
    "    # Sort the movies based on similarity scores\n",
    "    sim_scores = sorted(sim_scores, key=lambda x: x[1], reverse=True)\n",
    "\n",
    "    # Get the indices of the top 5 similar movies\n",
    "    sim_scores = sim_scores[1:6]\n",
    "    movie_indices = [i[0] for i in sim_scores]\n",
    "\n",
    "    # Return the top 5 most similar movies\n",
    "    return movies_df['title'].iloc[movie_indices]"
   ]
  },
  {
   "cell_type": "markdown",
   "id": "0acbaf00",
   "metadata": {},
   "source": [
    "## **Evaluation**"
   ]
  },
  {
   "cell_type": "code",
   "execution_count": null,
   "id": "ab2d3ffe",
   "metadata": {},
   "outputs": [],
   "source": [
    "# Test the recommendation system\n",
    "movie_to_search = 'The Matrix'\n",
    "recommended_movies = get_recommendations(movie_to_search)\n",
    "\n",
    "print(f\"Movies recommended for '{movie_to_search}':\")\n",
    "print(recommended_movies)"
   ]
  },
  {
   "cell_type": "markdown",
   "id": "ec410eb9",
   "metadata": {},
   "source": [
    "## **Conclusion**\n",
    "\n",
    "The system successfully recommends similar movies based on content features like genres and descriptions. It can be enhanced with larger datasets or advanced models."
   ]
  }
 ],
 "metadata": {},
 "nbformat": 4,
 "nbformat_minor": 5
}
